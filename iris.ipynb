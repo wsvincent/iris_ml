{
 "cells": [
  {
   "metadata": {
    "ExecuteTime": {
     "end_time": "2025-03-18T16:00:05.212626Z",
     "start_time": "2025-03-18T15:59:59.262176Z"
    }
   },
   "cell_type": "code",
   "source": [
    "# Load libraries\n",
    "import pandas as pd\n",
    "from sklearn.model_selection import train_test_split\n",
    "from sklearn.svm import SVC\n",
    "from sklearn.metrics import accuracy_score\n",
    "from joblib import dump, load\n",
    "\n",
    "# Load dataset\n",
    "df = pd.read_csv(\"data/iris.csv\")\n",
    "\n",
    "# Extract features (X) and labels (y)\n",
    "X = df[['SepalLengthCm', 'SepalWidthCm', 'PetalLengthCm', 'PetalWidthCm']].values\n",
    "y = df['Species'].values\n",
    "\n",
    "# Split into training and testing data\n",
    "X_train, X_test, y_train, y_test = train_test_split(X, y, test_size=0.20, random_state=1)\n",
    "\n",
    "# Train the model\n",
    "model = SVC(gamma=\"auto\")\n",
    "model.fit(X_train, y_train)\n",
    "\n",
    "# Make predictions on validation dataset\n",
    "predictions = model.predict(X_test)\n",
    "\n",
    "# Evaluate model accuracy\n",
    "accuracy = accuracy_score(y_test, predictions)\n",
    "print(f\"Model Accuracy: {accuracy:.2f}\")  # Print accuracy score\n",
    "\n",
    "# Save model using joblib\n",
    "dump(model, 'models/iris.joblib')\n",
    "\n",
    "# Load model using joblib\n",
    "model = load('models/iris.joblib')\n",
    "\n",
    "# Get input from the user\n",
    "try:\n",
    "    sepal_length = float(input(\"Enter SepalLengthCm: \"))\n",
    "    sepal_width = float(input(\"Enter SepalWidthCm: \"))\n",
    "    petal_length = float(input(\"Enter PetalLengthCm: \"))\n",
    "    petal_width = float(input(\"Enter PetalWidthCm: \"))\n",
    "except ValueError:\n",
    "    print(\"Invalid input. Please enter numeric values.\")\n",
    "    exit()\n",
    "\n",
    "# Make a prediction\n",
    "input_data = [[sepal_length, sepal_width, petal_length, petal_width]]\n",
    "result = model.predict(input_data)\n",
    "print(\"Prediction:\", result[0])  # Iris Classification with SVM"
   ],
   "id": "12ebd5e1d0704688",
   "outputs": [
    {
     "name": "stdout",
     "output_type": "stream",
     "text": [
      "Model Accuracy: 0.97\n",
      "Prediction: Iris-virginica\n"
     ]
    }
   ],
   "execution_count": 3
  }
 ],
 "metadata": {
  "kernelspec": {
   "display_name": "Python 3",
   "language": "python",
   "name": "python3"
  },
  "language_info": {
   "codemirror_mode": {
    "name": "ipython",
    "version": 2
   },
   "file_extension": ".py",
   "mimetype": "text/x-python",
   "name": "python",
   "nbconvert_exporter": "python",
   "pygments_lexer": "ipython2",
   "version": "2.7.6"
  }
 },
 "nbformat": 4,
 "nbformat_minor": 5
}
